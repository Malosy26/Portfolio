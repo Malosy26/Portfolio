{
 "cells": [
  {
   "cell_type": "code",
   "execution_count": 1,
   "metadata": {},
   "outputs": [],
   "source": [
    "import streamlit as st\n",
    "import time\n",
    "from datetime import datetime\n",
    "import requests\n",
    "from pprint import pprint\n",
    "import plotly.express as px\n",
    "import pandas as pd\n"
   ]
  },
  {
   "cell_type": "code",
   "execution_count": 2,
   "metadata": {},
   "outputs": [],
   "source": [
    "df = pd.read_csv(r'D:\\bootcamp\\dsb06rt\\mod5-machine-learning-y-deep-learning\\29_11_2023\\credit_risk.csv')"
   ]
  },
  {
   "cell_type": "code",
   "execution_count": 6,
   "metadata": {},
   "outputs": [
    {
     "data": {
      "text/plain": [
       "(5960, 13)"
      ]
     },
     "execution_count": 6,
     "metadata": {},
     "output_type": "execute_result"
    }
   ],
   "source": [
    "df.shape"
   ]
  },
  {
   "cell_type": "code",
   "execution_count": 7,
   "metadata": {},
   "outputs": [
    {
     "data": {
      "text/plain": [
       "(3364, 13)"
      ]
     },
     "execution_count": 7,
     "metadata": {},
     "output_type": "execute_result"
    }
   ],
   "source": [
    "df.dropna().shape"
   ]
  },
  {
   "cell_type": "code",
   "execution_count": 2,
   "metadata": {},
   "outputs": [],
   "source": [
    "url = \"https://api.frankfurter.app\""
   ]
  },
  {
   "cell_type": "code",
   "execution_count": 5,
   "metadata": {},
   "outputs": [],
   "source": [
    "from_currency = 'EUR' #moneda principal\n",
    "to_currency = 'USD' #moneda para comparar\n",
    "date_1 = '2023-01-01'#fecha desde que se quiere comparar hasta el dia actual de la consulta\n",
    "cantidad = 1\n",
    "endpoint = f\"{url}/{date_1}..?amount={cantidad}&from={from_currency}&to={to_currency}\"\n",
    "response = requests.get(endpoint)\n",
    "data=response.json()"
   ]
  },
  {
   "cell_type": "code",
   "execution_count": 42,
   "metadata": {},
   "outputs": [
    {
     "data": {
      "application/vnd.plotly.v1+json": {
       "config": {
        "plotlyServerURL": "https://plot.ly"
       },
       "data": [
        {
         "hovertemplate": "Fechas=%{x}<br>USD=%{y}<extra></extra>",
         "legendgroup": "",
         "line": {
          "color": "#000001",
          "dash": "solid"
         },
         "marker": {
          "symbol": "circle"
         },
         "mode": "lines",
         "name": "",
         "orientation": "v",
         "showlegend": false,
         "type": "scatter",
         "x": [
          "2023-01-02T00:00:00",
          "2023-01-09T00:00:00",
          "2023-01-16T00:00:00",
          "2023-01-23T00:00:00",
          "2023-01-30T00:00:00",
          "2023-02-06T00:00:00",
          "2023-02-13T00:00:00",
          "2023-02-20T00:00:00",
          "2023-02-27T00:00:00",
          "2023-03-06T00:00:00",
          "2023-03-13T00:00:00",
          "2023-03-20T00:00:00",
          "2023-03-27T00:00:00",
          "2023-04-03T00:00:00",
          "2023-04-10T00:00:00",
          "2023-04-17T00:00:00",
          "2023-04-24T00:00:00",
          "2023-05-01T00:00:00",
          "2023-05-08T00:00:00",
          "2023-05-15T00:00:00",
          "2023-05-22T00:00:00",
          "2023-05-29T00:00:00",
          "2023-06-05T00:00:00",
          "2023-06-12T00:00:00",
          "2023-06-19T00:00:00",
          "2023-06-26T00:00:00",
          "2023-07-03T00:00:00",
          "2023-07-10T00:00:00",
          "2023-07-17T00:00:00",
          "2023-07-24T00:00:00",
          "2023-07-31T00:00:00",
          "2023-08-07T00:00:00",
          "2023-08-14T00:00:00",
          "2023-08-21T00:00:00",
          "2023-08-28T00:00:00",
          "2023-09-04T00:00:00",
          "2023-09-11T00:00:00",
          "2023-09-18T00:00:00",
          "2023-09-25T00:00:00",
          "2023-10-02T00:00:00",
          "2023-10-09T00:00:00",
          "2023-10-16T00:00:00",
          "2023-10-23T00:00:00",
          "2023-10-30T00:00:00",
          "2023-11-06T00:00:00",
          "2023-11-13T00:00:00",
          "2023-11-20T00:00:00",
          "2023-11-27T00:00:00",
          "2023-12-04T00:00:00",
          "2023-12-11T00:00:00",
          "2023-12-18T00:00:00",
          "2023-12-25T00:00:00",
          "2024-01-01T00:00:00",
          "2024-01-08T00:00:00",
          "2024-01-15T00:00:00",
          "2024-01-22T00:00:00",
          "2024-01-29T00:00:00",
          "2024-02-05T00:00:00",
          "2024-02-12T00:00:00",
          "2024-02-19T00:00:00",
          "2024-02-26T00:00:00",
          "2024-03-04T00:00:00"
         ],
         "xaxis": "x",
         "y": [
          1.0586,
          1.075,
          1.0827,
          1.0873,
          1.0911,
          1.0734,
          1.0694,
          1.0634,
          1.0615,
          1.0599,
          1.0642,
          1.078,
          1.0844,
          1.0906,
          1.0975,
          1.0962,
          1.1017,
          1.1024,
          1.0954,
          1.0841,
          1.0774,
          1.072,
          1.0721,
          1.083,
          1.0929,
          1.0922,
          1.0892,
          1.1074,
          1.1205,
          1.1068,
          1.0971,
          1.0984,
          1.0908,
          1.085,
          1.0842,
          1.0738,
          1.0712,
          1.0672,
          1.0581,
          1.0517,
          1.0572,
          1.0564,
          1.0577,
          1.0625,
          1.0694,
          1.0797,
          1.0922,
          1.0938,
          1.0802,
          1.0843,
          1.0966,
          1.1076,
          1.0937,
          1.0952,
          1.0893,
          1.0886,
          1.0841,
          1.0759,
          1.0758,
          1.0813,
          1.0831,
          1.0848
         ],
         "yaxis": "y"
        },
        {
         "marker": {
          "color": "red",
          "size": 10
         },
         "mode": "markers",
         "name": "max: 1.1205",
         "type": "scatter",
         "x": [
          "2023-07-17T00:00:00"
         ],
         "y": [
          1.1205
         ]
        },
        {
         "marker": {
          "color": "blue",
          "size": 10
         },
         "mode": "markers",
         "name": "min: 1.0517",
         "type": "scatter",
         "x": [
          "2023-10-02T00:00:00"
         ],
         "y": [
          1.0517
         ]
        }
       ],
       "layout": {
        "legend": {
         "tracegroupgap": 0
        },
        "template": {
         "data": {
          "candlestick": [
           {
            "decreasing": {
             "line": {
              "color": "#000033"
             }
            },
            "increasing": {
             "line": {
              "color": "#000032"
             }
            },
            "type": "candlestick"
           }
          ],
          "contour": [
           {
            "colorscale": [
             [
              0,
              "#000011"
             ],
             [
              0.1111111111111111,
              "#000012"
             ],
             [
              0.2222222222222222,
              "#000013"
             ],
             [
              0.3333333333333333,
              "#000014"
             ],
             [
              0.4444444444444444,
              "#000015"
             ],
             [
              0.5555555555555556,
              "#000016"
             ],
             [
              0.6666666666666666,
              "#000017"
             ],
             [
              0.7777777777777778,
              "#000018"
             ],
             [
              0.8888888888888888,
              "#000019"
             ],
             [
              1,
              "#000020"
             ]
            ],
            "type": "contour"
           }
          ],
          "contourcarpet": [
           {
            "colorscale": [
             [
              0,
              "#000011"
             ],
             [
              0.1111111111111111,
              "#000012"
             ],
             [
              0.2222222222222222,
              "#000013"
             ],
             [
              0.3333333333333333,
              "#000014"
             ],
             [
              0.4444444444444444,
              "#000015"
             ],
             [
              0.5555555555555556,
              "#000016"
             ],
             [
              0.6666666666666666,
              "#000017"
             ],
             [
              0.7777777777777778,
              "#000018"
             ],
             [
              0.8888888888888888,
              "#000019"
             ],
             [
              1,
              "#000020"
             ]
            ],
            "type": "contourcarpet"
           }
          ],
          "heatmap": [
           {
            "colorscale": [
             [
              0,
              "#000011"
             ],
             [
              0.1111111111111111,
              "#000012"
             ],
             [
              0.2222222222222222,
              "#000013"
             ],
             [
              0.3333333333333333,
              "#000014"
             ],
             [
              0.4444444444444444,
              "#000015"
             ],
             [
              0.5555555555555556,
              "#000016"
             ],
             [
              0.6666666666666666,
              "#000017"
             ],
             [
              0.7777777777777778,
              "#000018"
             ],
             [
              0.8888888888888888,
              "#000019"
             ],
             [
              1,
              "#000020"
             ]
            ],
            "type": "heatmap"
           }
          ],
          "histogram2d": [
           {
            "colorscale": [
             [
              0,
              "#000011"
             ],
             [
              0.1111111111111111,
              "#000012"
             ],
             [
              0.2222222222222222,
              "#000013"
             ],
             [
              0.3333333333333333,
              "#000014"
             ],
             [
              0.4444444444444444,
              "#000015"
             ],
             [
              0.5555555555555556,
              "#000016"
             ],
             [
              0.6666666666666666,
              "#000017"
             ],
             [
              0.7777777777777778,
              "#000018"
             ],
             [
              0.8888888888888888,
              "#000019"
             ],
             [
              1,
              "#000020"
             ]
            ],
            "type": "histogram2d"
           }
          ],
          "icicle": [
           {
            "textfont": {
             "color": "white"
            },
            "type": "icicle"
           }
          ],
          "sankey": [
           {
            "textfont": {
             "color": "#000036"
            },
            "type": "sankey"
           }
          ],
          "scatter": [
           {
            "marker": {
             "line": {
              "width": 0
             }
            },
            "type": "scatter"
           }
          ],
          "table": [
           {
            "cells": {
             "fill": {
              "color": "#000038"
             },
             "font": {
              "color": "#000037"
             },
             "line": {
              "color": "#000039"
             }
            },
            "header": {
             "fill": {
              "color": "#000040"
             },
             "font": {
              "color": "#000036"
             },
             "line": {
              "color": "#000039"
             }
            },
            "type": "table"
           }
          ],
          "waterfall": [
           {
            "connector": {
             "line": {
              "color": "#000036",
              "width": 2
             }
            },
            "decreasing": {
             "marker": {
              "color": "#000033"
             }
            },
            "increasing": {
             "marker": {
              "color": "#000032"
             }
            },
            "totals": {
             "marker": {
              "color": "#000034"
             }
            },
            "type": "waterfall"
           }
          ]
         },
         "layout": {
          "coloraxis": {
           "colorscale": [
            [
             0,
             "#000011"
            ],
            [
             0.1111111111111111,
             "#000012"
            ],
            [
             0.2222222222222222,
             "#000013"
            ],
            [
             0.3333333333333333,
             "#000014"
            ],
            [
             0.4444444444444444,
             "#000015"
            ],
            [
             0.5555555555555556,
             "#000016"
            ],
            [
             0.6666666666666666,
             "#000017"
            ],
            [
             0.7777777777777778,
             "#000018"
            ],
            [
             0.8888888888888888,
             "#000019"
            ],
            [
             1,
             "#000020"
            ]
           ]
          },
          "colorscale": {
           "diverging": [
            [
             0,
             "#000021"
            ],
            [
             0.1,
             "#000022"
            ],
            [
             0.2,
             "#000023"
            ],
            [
             0.3,
             "#000024"
            ],
            [
             0.4,
             "#000025"
            ],
            [
             0.5,
             "#000026"
            ],
            [
             0.6,
             "#000027"
            ],
            [
             0.7,
             "#000028"
            ],
            [
             0.8,
             "#000029"
            ],
            [
             0.9,
             "#000030"
            ],
            [
             1,
             "#000031"
            ]
           ],
           "sequential": [
            [
             0,
             "#000011"
            ],
            [
             0.1111111111111111,
             "#000012"
            ],
            [
             0.2222222222222222,
             "#000013"
            ],
            [
             0.3333333333333333,
             "#000014"
            ],
            [
             0.4444444444444444,
             "#000015"
            ],
            [
             0.5555555555555556,
             "#000016"
            ],
            [
             0.6666666666666666,
             "#000017"
            ],
            [
             0.7777777777777778,
             "#000018"
            ],
            [
             0.8888888888888888,
             "#000019"
            ],
            [
             1,
             "#000020"
            ]
           ],
           "sequentialminus": [
            [
             0,
             "#000011"
            ],
            [
             0.1111111111111111,
             "#000012"
            ],
            [
             0.2222222222222222,
             "#000013"
            ],
            [
             0.3333333333333333,
             "#000014"
            ],
            [
             0.4444444444444444,
             "#000015"
            ],
            [
             0.5555555555555556,
             "#000016"
            ],
            [
             0.6666666666666666,
             "#000017"
            ],
            [
             0.7777777777777778,
             "#000018"
            ],
            [
             0.8888888888888888,
             "#000019"
            ],
            [
             1,
             "#000020"
            ]
           ]
          },
          "colorway": [
           "#000001",
           "#000002",
           "#000003",
           "#000004",
           "#000005",
           "#000006",
           "#000007",
           "#000008",
           "#000009",
           "#000010"
          ]
         }
        },
        "title": {
         "text": "Relación de 1 EUR : 1 USD desde 01/01/2023 hasta 04-03-2024"
        },
        "xaxis": {
         "anchor": "y",
         "domain": [
          0,
          1
         ],
         "dtick": "M1",
         "tick0": 0,
         "tickformat": "%b %Y",
         "tickmode": "linear",
         "title": {
          "text": "Fechas"
         }
        },
        "yaxis": {
         "anchor": "x",
         "domain": [
          0,
          1
         ],
         "title": {
          "text": "USD"
         }
        }
       }
      }
     },
     "metadata": {},
     "output_type": "display_data"
    }
   ],
   "source": [
    "#lista de fechas\n",
    "fechas = list(data['rates'].keys())\n",
    "#transformarlas a datetime\n",
    "fechas = [datetime.strptime(fecha, \"%Y-%m-%d\") for fecha in fechas]\n",
    "#obtencion de la lista de los valores por fechas\n",
    "monedasCon = [data['rates'][fecha]['USD'] for fecha in data['rates'].keys()]\n",
    "#creamos un df para facilitar su impresion\n",
    "df = pd.DataFrame({'Fechas' : fechas, 'USD':monedasCon})\n",
    "#Encontramos el máximo y el mínimo\n",
    "max_index = monedasCon.index(max(monedasCon))\n",
    "min_index = monedasCon.index(min(monedasCon))\n",
    "max_fecha = fechas[max_index]\n",
    "min_fecha = fechas[min_index]\n",
    "fig = px.line(df, x='Fechas', y='USD', title=f'Relación de 1 EUR : 1 USD desde 01/01/2023 hasta {max(fechas).strftime(\"%d-%m-%Y\")}')\n",
    "fig.add_scatter(x=[max_fecha], y=[max(monedasCon)], mode='markers', marker=dict(color='red', size=10), name=f\"max: {max(monedasCon)}\")\n",
    "fig.add_scatter(x=[min_fecha], y=[min(monedasCon)], mode='markers', marker=dict(color='blue', size=10), name=f\"min: {min(monedasCon)}\")\n",
    "fig.update_xaxes(\n",
    "        tickmode='linear',\n",
    "        tick0=0,\n",
    "        dtick='M1',  # Intervalo de 1 mes\n",
    "        tickformat='%b %Y'  # Formato de mes abreviado\n",
    "    )\n",
    "fig.show()\n",
    "\n"
   ]
  },
  {
   "cell_type": "code",
   "execution_count": 39,
   "metadata": {},
   "outputs": [
    {
     "data": {
      "text/plain": [
       "{'2023-01-02': {'USD': 1.0586},\n",
       " '2023-01-09': {'USD': 1.075},\n",
       " '2023-01-16': {'USD': 1.0827},\n",
       " '2023-01-23': {'USD': 1.0873},\n",
       " '2023-01-30': {'USD': 1.0911},\n",
       " '2023-02-06': {'USD': 1.0734},\n",
       " '2023-02-13': {'USD': 1.0694},\n",
       " '2023-02-20': {'USD': 1.0634},\n",
       " '2023-02-27': {'USD': 1.0615},\n",
       " '2023-03-06': {'USD': 1.0599},\n",
       " '2023-03-13': {'USD': 1.0642},\n",
       " '2023-03-20': {'USD': 1.078},\n",
       " '2023-03-27': {'USD': 1.0844},\n",
       " '2023-04-03': {'USD': 1.0906},\n",
       " '2023-04-10': {'USD': 1.0975},\n",
       " '2023-04-17': {'USD': 1.0962},\n",
       " '2023-04-24': {'USD': 1.1017},\n",
       " '2023-05-01': {'USD': 1.1024},\n",
       " '2023-05-08': {'USD': 1.0954},\n",
       " '2023-05-15': {'USD': 1.0841},\n",
       " '2023-05-22': {'USD': 1.0774},\n",
       " '2023-05-29': {'USD': 1.072},\n",
       " '2023-06-05': {'USD': 1.0721},\n",
       " '2023-06-12': {'USD': 1.083},\n",
       " '2023-06-19': {'USD': 1.0929},\n",
       " '2023-06-26': {'USD': 1.0922},\n",
       " '2023-07-03': {'USD': 1.0892},\n",
       " '2023-07-10': {'USD': 1.1074},\n",
       " '2023-07-17': {'USD': 1.1205},\n",
       " '2023-07-24': {'USD': 1.1068},\n",
       " '2023-07-31': {'USD': 1.0971},\n",
       " '2023-08-07': {'USD': 1.0984},\n",
       " '2023-08-14': {'USD': 1.0908},\n",
       " '2023-08-21': {'USD': 1.085},\n",
       " '2023-08-28': {'USD': 1.0842},\n",
       " '2023-09-04': {'USD': 1.0738},\n",
       " '2023-09-11': {'USD': 1.0712},\n",
       " '2023-09-18': {'USD': 1.0672},\n",
       " '2023-09-25': {'USD': 1.0581},\n",
       " '2023-10-02': {'USD': 1.0517},\n",
       " '2023-10-09': {'USD': 1.0572},\n",
       " '2023-10-16': {'USD': 1.0564},\n",
       " '2023-10-23': {'USD': 1.0577},\n",
       " '2023-10-30': {'USD': 1.0625},\n",
       " '2023-11-06': {'USD': 1.0694},\n",
       " '2023-11-13': {'USD': 1.0797},\n",
       " '2023-11-20': {'USD': 1.0922},\n",
       " '2023-11-27': {'USD': 1.0938},\n",
       " '2023-12-04': {'USD': 1.0802},\n",
       " '2023-12-11': {'USD': 1.0843},\n",
       " '2023-12-18': {'USD': 1.0966},\n",
       " '2023-12-25': {'USD': 1.1076},\n",
       " '2024-01-01': {'USD': 1.0937},\n",
       " '2024-01-08': {'USD': 1.0952},\n",
       " '2024-01-15': {'USD': 1.0893},\n",
       " '2024-01-22': {'USD': 1.0886},\n",
       " '2024-01-29': {'USD': 1.0841},\n",
       " '2024-02-05': {'USD': 1.0759},\n",
       " '2024-02-12': {'USD': 1.0758},\n",
       " '2024-02-19': {'USD': 1.0813},\n",
       " '2024-02-26': {'USD': 1.0831},\n",
       " '2024-03-04': {'USD': 1.0848}}"
      ]
     },
     "execution_count": 39,
     "metadata": {},
     "output_type": "execute_result"
    }
   ],
   "source": [
    "data['rates']"
   ]
  },
  {
   "cell_type": "code",
   "execution_count": 14,
   "metadata": {},
   "outputs": [],
   "source": [
    "from pptx import Presentation\n",
    "from PIL import Image\n",
    "import io"
   ]
  },
  {
   "cell_type": "code",
   "execution_count": 3,
   "metadata": {},
   "outputs": [],
   "source": [
    "def convert_ppt_to_images(ppt_path, output_folder):\n",
    "    prs = Presentation(ppt_path)\n",
    "    for i, slide in enumerate(prs.slides):\n",
    "        slide_name = f\"{output_folder}/slide_{i}.png\"\n",
    "        image = Image.new(\"RGB\", (prs.slide_width, prs.slide_height))\n",
    "        graphics = slide._element.graphicFrame\n",
    "        graphics.render(image)\n",
    "        \n",
    "        # Reducir la resolución de la imagen\n",
    "        image = image.resize((int(prs.slide_width / 2), int(prs.slide_height / 2)))\n",
    "        \n",
    "        image.save(slide_name)\n",
    "\n",
    "# convert_ppt_to_images(r\"D:\\bootcamp\\Streamlit\\Portafolio\\imagenesAnimalia\\ProyectoEstudioDeAnimales.pptx\", r\"D:\\bootcamp\\Streamlit\\Portafolio\\imagenesAnimalia\")"
   ]
  },
  {
   "cell_type": "code",
   "execution_count": 4,
   "metadata": {},
   "outputs": [],
   "source": [
    "ppt_path = r\"D:\\bootcamp\\Streamlit\\Portafolio\\imagenesAnimalia\\ProyectoEstudioDeAnimales.pptx\"\n",
    "output_folder =  r\"D:\\bootcamp\\Streamlit\\Portafolio\\imagenesAnimalia\""
   ]
  },
  {
   "cell_type": "code",
   "execution_count": null,
   "metadata": {},
   "outputs": [],
   "source": [
    "prs = Presentation(ppt_path)\n",
    "for i, slide in enumerate(prs.slides):\n",
    "    slide_name = f\"{output_folder}/slide_{i}.png\"\n",
    "    image = Image.new(\"RGB\", (prs.slide_width, prs.slide_height))\n",
    "    graphics = slide._element.graphicFrame\n",
    "    graphics.render(image)"
   ]
  },
  {
   "cell_type": "code",
   "execution_count": 12,
   "metadata": {},
   "outputs": [
    {
     "name": "stdout",
     "output_type": "stream",
     "text": [
      "Estudio sobre Animales\n",
      "Por: Ane Zubieta , Maria Gomez Roman , Enric Martinez Romero ,Daniel Villa Rayo\n",
      "\n"
     ]
    }
   ],
   "source": [
    "text_content = \"\"\n",
    "for shape in prs.slides[0].shapes:\n",
    "    if hasattr(shape, \"text\"):\n",
    "        text_content += shape.text + \"\\n\"\n",
    "\n",
    "# Imprimir el texto de la primera diapositiva\n",
    "print(text_content)"
   ]
  },
  {
   "cell_type": "code",
   "execution_count": 16,
   "metadata": {},
   "outputs": [
    {
     "ename": "MemoryError",
     "evalue": "",
     "output_type": "error",
     "traceback": [
      "\u001b[1;31m---------------------------------------------------------------------------\u001b[0m",
      "\u001b[1;31mMemoryError\u001b[0m                               Traceback (most recent call last)",
      "Cell \u001b[1;32mIn[16], line 12\u001b[0m\n\u001b[0;32m      9\u001b[0m image_buffer \u001b[38;5;241m=\u001b[39m io\u001b[38;5;241m.\u001b[39mBytesIO()\n\u001b[0;32m     11\u001b[0m \u001b[38;5;66;03m# Renderizar la diapositiva como una imagen con la nueva resolución\u001b[39;00m\n\u001b[1;32m---> 12\u001b[0m image \u001b[38;5;241m=\u001b[39m \u001b[43mImage\u001b[49m\u001b[38;5;241;43m.\u001b[39;49m\u001b[43mnew\u001b[49m\u001b[43m(\u001b[49m\u001b[38;5;124;43m\"\u001b[39;49m\u001b[38;5;124;43mRGB\u001b[39;49m\u001b[38;5;124;43m\"\u001b[39;49m\u001b[43m,\u001b[49m\u001b[43m \u001b[49m\u001b[43m(\u001b[49m\u001b[43mslide_width\u001b[49m\u001b[43m,\u001b[49m\u001b[43m \u001b[49m\u001b[43mslide_height\u001b[49m\u001b[43m)\u001b[49m\u001b[43m)\u001b[49m\n\u001b[0;32m     13\u001b[0m graphics \u001b[38;5;241m=\u001b[39m first_slide\u001b[38;5;241m.\u001b[39m_element\u001b[38;5;241m.\u001b[39mgraphicFrame\n\u001b[0;32m     14\u001b[0m graphics\u001b[38;5;241m.\u001b[39mrender(image)\n",
      "File \u001b[1;32mc:\\Users\\Danie\\anaconda3\\Lib\\site-packages\\PIL\\Image.py:2914\u001b[0m, in \u001b[0;36mnew\u001b[1;34m(mode, size, color)\u001b[0m\n\u001b[0;32m   2912\u001b[0m     im\u001b[38;5;241m.\u001b[39mpalette \u001b[38;5;241m=\u001b[39m ImagePalette\u001b[38;5;241m.\u001b[39mImagePalette()\n\u001b[0;32m   2913\u001b[0m     color \u001b[38;5;241m=\u001b[39m im\u001b[38;5;241m.\u001b[39mpalette\u001b[38;5;241m.\u001b[39mgetcolor(color)\n\u001b[1;32m-> 2914\u001b[0m \u001b[38;5;28;01mreturn\u001b[39;00m im\u001b[38;5;241m.\u001b[39m_new(\u001b[43mcore\u001b[49m\u001b[38;5;241;43m.\u001b[39;49m\u001b[43mfill\u001b[49m\u001b[43m(\u001b[49m\u001b[43mmode\u001b[49m\u001b[43m,\u001b[49m\u001b[43m \u001b[49m\u001b[43msize\u001b[49m\u001b[43m,\u001b[49m\u001b[43m \u001b[49m\u001b[43mcolor\u001b[49m\u001b[43m)\u001b[49m)\n",
      "\u001b[1;31mMemoryError\u001b[0m: "
     ]
    }
   ],
   "source": [
    "\n",
    "# Obtener la primera diapositiva\n",
    "first_slide = prs.slides[0]\n",
    "\n",
    "# Reducir la resolución de la imagen\n",
    "slide_width = int(prs.slide_width / 2)\n",
    "slide_height = int(prs.slide_height / 2)\n",
    "\n",
    "# Crear un búfer de bytes para guardar la imagen\n",
    "image_buffer = io.BytesIO()\n",
    "\n",
    "# Renderizar la diapositiva como una imagen con la nueva resolución\n",
    "image = Image.new(\"RGB\", (slide_width, slide_height))\n",
    "graphics = first_slide._element.graphicFrame\n",
    "graphics.render(image)\n",
    "\n",
    "# Guardar la imagen en el búfer de bytes\n",
    "image.save(image_buffer, format=\"PNG\")\n",
    "\n",
    "# Mostrar la imagen\n",
    "image_buffer.seek(0)\n",
    "img = Image.open(image_buffer)\n",
    "img.show()"
   ]
  }
 ],
 "metadata": {
  "kernelspec": {
   "display_name": "base",
   "language": "python",
   "name": "python3"
  },
  "language_info": {
   "codemirror_mode": {
    "name": "ipython",
    "version": 3
   },
   "file_extension": ".py",
   "mimetype": "text/x-python",
   "name": "python",
   "nbconvert_exporter": "python",
   "pygments_lexer": "ipython3",
   "version": "3.11.7"
  }
 },
 "nbformat": 4,
 "nbformat_minor": 2
}
